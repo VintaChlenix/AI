{
  "nbformat": 4,
  "nbformat_minor": 0,
  "metadata": {
    "colab": {
      "provenance": [],
      "collapsed_sections": []
    },
    "kernelspec": {
      "name": "python3",
      "display_name": "Python 3"
    },
    "language_info": {
      "name": "python"
    }
  },
  "cells": [
    {
      "cell_type": "code",
      "source": [
        "import pandas as pd\n",
        "import matplotlib.pyplot as plt\n",
        "import seaborn as sns\n",
        "\n",
        "from scipy import stats\n",
        "from sklearn.model_selection import train_test_split\n",
        "from sklearn.base import BaseEstimator, ClassifierMixin\n",
        "from sklearn.neighbors import KNeighborsClassifier\n",
        "\n",
        "import pickle\n",
        "import numpy as np\n",
        "import pandas as pd\n",
        "import seaborn as sns\n",
        "import matplotlib.pyplot as plt\n",
        "from sklearn.base import BaseEstimator, ClassifierMixin, TransformerMixin\n",
        "from sklearn.pipeline import Pipeline\n",
        "from sklearn.model_selection import train_test_split, GridSearchCV, RandomizedSearchCV\n",
        "from sklearn.metrics import euclidean_distances\n",
        "from sklearn.utils.validation import check_X_y, check_array, check_is_fitted\n",
        "from sklearn.utils.multiclass import unique_labels\n",
        "from sklearn.preprocessing import Normalizer, StandardScaler"
      ],
      "metadata": {
        "id": "ac0YbM3OhBT5"
      },
      "execution_count": 82,
      "outputs": []
    },
    {
      "cell_type": "code",
      "source": [
        "from sklearn.metrics import confusion_matrix, ConfusionMatrixDisplay\n",
        "from sklearn.metrics import precision_score\n",
        "from sklearn.metrics import recall_score\n",
        "from sklearn.metrics import RocCurveDisplay\n",
        "from sklearn.metrics import accuracy_score\n",
        "\n",
        "def scores(y, y_pred):\n",
        "    conf_mat = ConfusionMatrixDisplay(confusion_matrix(y, y_pred))\n",
        "    conf_mat.plot()\n",
        "    RocCurveDisplay.from_predictions(y, y_pred)\n",
        "    plt.show()\n",
        "    print(f\"Accuracy tests: {accuracy_score(y, y_pred)}\")\n",
        "    print(f\"Precision tests: {precision_score(y, y_pred)}\")\n",
        "    print(f\"Recall tests: {recall_score(y, y_pred)}\")"
      ],
      "metadata": {
        "id": "37_OcABUra8U"
      },
      "execution_count": 78,
      "outputs": []
    },
    {
      "cell_type": "code",
      "source": [
        "class Linear(BaseEstimator, ClassifierMixin):\n",
        "    def __init__(self, lr=1e-03, epoch=1, batch_size=64):\n",
        "        self.lr = lr\n",
        "        self.epoch = epoch\n",
        "        self.batch_size = batch_size\n",
        "    \n",
        "    def sigmoid(self, x):\n",
        "        self.l = 1 / (1 + np.exp(-x))\n",
        "        return self.l\n",
        "        \n",
        "    def fit(self, X, y):\n",
        "        X = np.concatenate((X, np.ones((X.shape[0], 1))), axis = 1)\n",
        "        self.W = np.random.normal(0, 1, (len(X[0]),))\n",
        "        \n",
        "        for i in range(self.epoch):\n",
        "            for i in range(0, len(X), self.batch_size):\n",
        "                xb = X[i:i + self.batch_size]\n",
        "                yb = y[i:i + self.batch_size]\n",
        "                p = np.dot(self.W, xb.T)\n",
        "                s = self.sigmoid(p)\n",
        "                dp = np.dot(xb.T, (s - yb).T)\n",
        "                self.W -= self.lr * dp\n",
        "\n",
        "    def predict(self, x):\n",
        "        p = self.predict_proba(x)\n",
        "        return (p > 0.5).astype('int64')\n",
        "\n",
        "    def predict_proba(self, x):\n",
        "        x = np.concatenate((x, np.ones((x.shape[0],1))), axis = 1)\n",
        "        p = np.dot(self.W, x.T)\n",
        "\n",
        "        return self.sigmoid(p)"
      ],
      "metadata": {
        "id": "Ou4uGqoag9Gl"
      },
      "execution_count": 50,
      "outputs": []
    },
    {
      "cell_type": "code",
      "source": [
        "class KNeighbors(BaseEstimator, ClassifierMixin):\n",
        "    \n",
        "    def __norm(self, x, y):\n",
        "        return np.sqrt(np.sum(np.square(x - y)))\n",
        "    \n",
        "    def __init__(self, **kwargs):\n",
        "        self.k = kwargs.get('k', 5)\n",
        "        self.data = None\n",
        "        \n",
        "    def predict(self, p):\n",
        "        result = []\n",
        "        for x in p:\n",
        "            self.data.sort(key = lambda t : self.__norm(t[0], x))\n",
        "            result.append(np.bincount(np.array([i[1] for i in self.data[:self.k]])).argmax())\n",
        "        return np.array(result)\n",
        "    \n",
        "    def predict_proba(self, p):\n",
        "        result = []\n",
        "        for x in p:\n",
        "            self.data.sort(key = lambda t : self.__norm(t[0], x))\n",
        "            res = np.bincount(np.array([i[1] for i in self.data[:self.k]]), minlength=2)[1] / self.k\n",
        "            result.append(res)\n",
        "        return np.array(result)\n",
        "    \n",
        "    def fit(self, Train_data, Train_labels):\n",
        "    \n",
        "        self.data = [(Train_data[i], Train_labels[i]) for i in range(len(Train_data))]\n",
        "        return self\n",
        "    \n",
        "    def get_params(self, deep=True):\n",
        "        return {\"k\": self.k}"
      ],
      "metadata": {
        "id": "hmODHlLEg9EU"
      },
      "execution_count": 40,
      "outputs": []
    },
    {
      "cell_type": "code",
      "source": [
        "class SVM(BaseEstimator, ClassifierMixin):\n",
        "    \n",
        "    def __sigm(self, x):\n",
        "        x = np.clip(x, -10, 10)\n",
        "        return 1.0 / (1.0 + np.exp(-x))\n",
        "    \n",
        "    def __init__(self, a = 3, **kwargs):\n",
        "        self.W = np.random.normal(0, 1, a + 1)\n",
        "        self.alpha = kwargs.get('alpha', 0.1)\n",
        "        self.epoch = kwargs.get('epoch', 20)\n",
        "        self.train_rate = kwargs.get('train_rate', 0.1)\n",
        "        self.batch = kwargs.get('batch', 4)\n",
        "        \n",
        "    def coef(self):\n",
        "        return self.W\n",
        "    \n",
        "    def predict(self, p):\n",
        "        res = self.predict_proba(p)\n",
        "        return np.where(res >= 0.5, 1, 0)\n",
        "    \n",
        "    def predict_proba(self, p):\n",
        "        n, m = p.shape\n",
        "        p = np.c_[np.ones(n), p]\n",
        "        return self.__sigm(p.dot(self.W))\n",
        "        \n",
        "    def fit(self, Train_data, Train_labels):\n",
        "    \n",
        "        n, m = Train_data.shape\n",
        "        Train = np.c_[np.ones(n), Train_data]\n",
        "    \n",
        "        for i in range(self.epoch):\n",
        "            for j in range(0, len(Train), self.batch):\n",
        "                p = Train[j : j + self.batch]\n",
        "                y = Train_labels[j : j + self.batch] * 3 - 1\n",
        "                f_p = self.__sigm(p.dot(self.W))\n",
        "                \n",
        "                grad = 2 * self.alpha * self.W\n",
        "                for ib, xb in enumerate(p):\n",
        "                    if 1 - xb.dot(self.W) * y[ib] > 0:\n",
        "                        grad -= xb * y[ib]\n",
        "                \n",
        "                self.W -= self.train_rate * grad\n",
        "                \n",
        "        return self\n",
        "    \n",
        "    def get_params(self, deep=True):\n",
        "        return {\"alpha\" : self.alpha, \"epoch\": self.epoch, \"batch\": self.batch, \"train_rate\": self.train_rate}"
      ],
      "metadata": {
        "id": "9PqwD7pBg9CN"
      },
      "execution_count": 63,
      "outputs": []
    },
    {
      "cell_type": "markdown",
      "source": [
        "## load pretrained"
      ],
      "metadata": {
        "id": "vAfyan0ohNoc"
      }
    },
    {
      "cell_type": "code",
      "source": [
        "with open('best_Linear.pickle', 'rb') as lin_model:\n",
        "  linear = pickle.load(lin_model)\n",
        "with open('best_KNN.pickle', 'rb') as knn_model:\n",
        "  knn = pickle.load(knn_model)\n",
        "with open('best_SVM.pickle', 'rb') as svm_model:\n",
        "  svm = pickle.load(svm_model)"
      ],
      "metadata": {
        "id": "qPA1QxV7f11Z"
      },
      "execution_count": 24,
      "outputs": []
    },
    {
      "cell_type": "code",
      "source": [
        "df = pd.read_csv('salary.csv')\n",
        "print(df.shape)\n",
        "df.head()"
      ],
      "metadata": {
        "colab": {
          "base_uri": "https://localhost:8080/",
          "height": 372
        },
        "id": "3hJk0BVJhkzX",
        "outputId": "e61806c9-2600-4cfe-c5f2-3aa807013906"
      },
      "execution_count": 19,
      "outputs": [
        {
          "output_type": "stream",
          "name": "stdout",
          "text": [
            "(32561, 15)\n"
          ]
        },
        {
          "output_type": "execute_result",
          "data": {
            "text/plain": [
              "   age          workclass  fnlwgt   education  education-num  \\\n",
              "0   39          State-gov   77516   Bachelors             13   \n",
              "1   50   Self-emp-not-inc   83311   Bachelors             13   \n",
              "2   38            Private  215646     HS-grad              9   \n",
              "3   53            Private  234721        11th              7   \n",
              "4   28            Private  338409   Bachelors             13   \n",
              "\n",
              "        marital-status          occupation    relationship    race      sex  \\\n",
              "0        Never-married        Adm-clerical   Not-in-family   White     Male   \n",
              "1   Married-civ-spouse     Exec-managerial         Husband   White     Male   \n",
              "2             Divorced   Handlers-cleaners   Not-in-family   White     Male   \n",
              "3   Married-civ-spouse   Handlers-cleaners         Husband   Black     Male   \n",
              "4   Married-civ-spouse      Prof-specialty            Wife   Black   Female   \n",
              "\n",
              "   capital-gain  capital-loss  hours-per-week  native-country  salary  \n",
              "0          2174             0              40   United-States   <=50K  \n",
              "1             0             0              13   United-States   <=50K  \n",
              "2             0             0              40   United-States   <=50K  \n",
              "3             0             0              40   United-States   <=50K  \n",
              "4             0             0              40            Cuba   <=50K  "
            ],
            "text/html": [
              "\n",
              "  <div id=\"df-f767eeac-5972-404a-9f49-b3c9e91aa60c\">\n",
              "    <div class=\"colab-df-container\">\n",
              "      <div>\n",
              "<style scoped>\n",
              "    .dataframe tbody tr th:only-of-type {\n",
              "        vertical-align: middle;\n",
              "    }\n",
              "\n",
              "    .dataframe tbody tr th {\n",
              "        vertical-align: top;\n",
              "    }\n",
              "\n",
              "    .dataframe thead th {\n",
              "        text-align: right;\n",
              "    }\n",
              "</style>\n",
              "<table border=\"1\" class=\"dataframe\">\n",
              "  <thead>\n",
              "    <tr style=\"text-align: right;\">\n",
              "      <th></th>\n",
              "      <th>age</th>\n",
              "      <th>workclass</th>\n",
              "      <th>fnlwgt</th>\n",
              "      <th>education</th>\n",
              "      <th>education-num</th>\n",
              "      <th>marital-status</th>\n",
              "      <th>occupation</th>\n",
              "      <th>relationship</th>\n",
              "      <th>race</th>\n",
              "      <th>sex</th>\n",
              "      <th>capital-gain</th>\n",
              "      <th>capital-loss</th>\n",
              "      <th>hours-per-week</th>\n",
              "      <th>native-country</th>\n",
              "      <th>salary</th>\n",
              "    </tr>\n",
              "  </thead>\n",
              "  <tbody>\n",
              "    <tr>\n",
              "      <th>0</th>\n",
              "      <td>39</td>\n",
              "      <td>State-gov</td>\n",
              "      <td>77516</td>\n",
              "      <td>Bachelors</td>\n",
              "      <td>13</td>\n",
              "      <td>Never-married</td>\n",
              "      <td>Adm-clerical</td>\n",
              "      <td>Not-in-family</td>\n",
              "      <td>White</td>\n",
              "      <td>Male</td>\n",
              "      <td>2174</td>\n",
              "      <td>0</td>\n",
              "      <td>40</td>\n",
              "      <td>United-States</td>\n",
              "      <td>&lt;=50K</td>\n",
              "    </tr>\n",
              "    <tr>\n",
              "      <th>1</th>\n",
              "      <td>50</td>\n",
              "      <td>Self-emp-not-inc</td>\n",
              "      <td>83311</td>\n",
              "      <td>Bachelors</td>\n",
              "      <td>13</td>\n",
              "      <td>Married-civ-spouse</td>\n",
              "      <td>Exec-managerial</td>\n",
              "      <td>Husband</td>\n",
              "      <td>White</td>\n",
              "      <td>Male</td>\n",
              "      <td>0</td>\n",
              "      <td>0</td>\n",
              "      <td>13</td>\n",
              "      <td>United-States</td>\n",
              "      <td>&lt;=50K</td>\n",
              "    </tr>\n",
              "    <tr>\n",
              "      <th>2</th>\n",
              "      <td>38</td>\n",
              "      <td>Private</td>\n",
              "      <td>215646</td>\n",
              "      <td>HS-grad</td>\n",
              "      <td>9</td>\n",
              "      <td>Divorced</td>\n",
              "      <td>Handlers-cleaners</td>\n",
              "      <td>Not-in-family</td>\n",
              "      <td>White</td>\n",
              "      <td>Male</td>\n",
              "      <td>0</td>\n",
              "      <td>0</td>\n",
              "      <td>40</td>\n",
              "      <td>United-States</td>\n",
              "      <td>&lt;=50K</td>\n",
              "    </tr>\n",
              "    <tr>\n",
              "      <th>3</th>\n",
              "      <td>53</td>\n",
              "      <td>Private</td>\n",
              "      <td>234721</td>\n",
              "      <td>11th</td>\n",
              "      <td>7</td>\n",
              "      <td>Married-civ-spouse</td>\n",
              "      <td>Handlers-cleaners</td>\n",
              "      <td>Husband</td>\n",
              "      <td>Black</td>\n",
              "      <td>Male</td>\n",
              "      <td>0</td>\n",
              "      <td>0</td>\n",
              "      <td>40</td>\n",
              "      <td>United-States</td>\n",
              "      <td>&lt;=50K</td>\n",
              "    </tr>\n",
              "    <tr>\n",
              "      <th>4</th>\n",
              "      <td>28</td>\n",
              "      <td>Private</td>\n",
              "      <td>338409</td>\n",
              "      <td>Bachelors</td>\n",
              "      <td>13</td>\n",
              "      <td>Married-civ-spouse</td>\n",
              "      <td>Prof-specialty</td>\n",
              "      <td>Wife</td>\n",
              "      <td>Black</td>\n",
              "      <td>Female</td>\n",
              "      <td>0</td>\n",
              "      <td>0</td>\n",
              "      <td>40</td>\n",
              "      <td>Cuba</td>\n",
              "      <td>&lt;=50K</td>\n",
              "    </tr>\n",
              "  </tbody>\n",
              "</table>\n",
              "</div>\n",
              "      <button class=\"colab-df-convert\" onclick=\"convertToInteractive('df-f767eeac-5972-404a-9f49-b3c9e91aa60c')\"\n",
              "              title=\"Convert this dataframe to an interactive table.\"\n",
              "              style=\"display:none;\">\n",
              "        \n",
              "  <svg xmlns=\"http://www.w3.org/2000/svg\" height=\"24px\"viewBox=\"0 0 24 24\"\n",
              "       width=\"24px\">\n",
              "    <path d=\"M0 0h24v24H0V0z\" fill=\"none\"/>\n",
              "    <path d=\"M18.56 5.44l.94 2.06.94-2.06 2.06-.94-2.06-.94-.94-2.06-.94 2.06-2.06.94zm-11 1L8.5 8.5l.94-2.06 2.06-.94-2.06-.94L8.5 2.5l-.94 2.06-2.06.94zm10 10l.94 2.06.94-2.06 2.06-.94-2.06-.94-.94-2.06-.94 2.06-2.06.94z\"/><path d=\"M17.41 7.96l-1.37-1.37c-.4-.4-.92-.59-1.43-.59-.52 0-1.04.2-1.43.59L10.3 9.45l-7.72 7.72c-.78.78-.78 2.05 0 2.83L4 21.41c.39.39.9.59 1.41.59.51 0 1.02-.2 1.41-.59l7.78-7.78 2.81-2.81c.8-.78.8-2.07 0-2.86zM5.41 20L4 18.59l7.72-7.72 1.47 1.35L5.41 20z\"/>\n",
              "  </svg>\n",
              "      </button>\n",
              "      \n",
              "  <style>\n",
              "    .colab-df-container {\n",
              "      display:flex;\n",
              "      flex-wrap:wrap;\n",
              "      gap: 12px;\n",
              "    }\n",
              "\n",
              "    .colab-df-convert {\n",
              "      background-color: #E8F0FE;\n",
              "      border: none;\n",
              "      border-radius: 50%;\n",
              "      cursor: pointer;\n",
              "      display: none;\n",
              "      fill: #1967D2;\n",
              "      height: 32px;\n",
              "      padding: 0 0 0 0;\n",
              "      width: 32px;\n",
              "    }\n",
              "\n",
              "    .colab-df-convert:hover {\n",
              "      background-color: #E2EBFA;\n",
              "      box-shadow: 0px 1px 2px rgba(60, 64, 67, 0.3), 0px 1px 3px 1px rgba(60, 64, 67, 0.15);\n",
              "      fill: #174EA6;\n",
              "    }\n",
              "\n",
              "    [theme=dark] .colab-df-convert {\n",
              "      background-color: #3B4455;\n",
              "      fill: #D2E3FC;\n",
              "    }\n",
              "\n",
              "    [theme=dark] .colab-df-convert:hover {\n",
              "      background-color: #434B5C;\n",
              "      box-shadow: 0px 1px 3px 1px rgba(0, 0, 0, 0.15);\n",
              "      filter: drop-shadow(0px 1px 2px rgba(0, 0, 0, 0.3));\n",
              "      fill: #FFFFFF;\n",
              "    }\n",
              "  </style>\n",
              "\n",
              "      <script>\n",
              "        const buttonEl =\n",
              "          document.querySelector('#df-f767eeac-5972-404a-9f49-b3c9e91aa60c button.colab-df-convert');\n",
              "        buttonEl.style.display =\n",
              "          google.colab.kernel.accessAllowed ? 'block' : 'none';\n",
              "\n",
              "        async function convertToInteractive(key) {\n",
              "          const element = document.querySelector('#df-f767eeac-5972-404a-9f49-b3c9e91aa60c');\n",
              "          const dataTable =\n",
              "            await google.colab.kernel.invokeFunction('convertToInteractive',\n",
              "                                                     [key], {});\n",
              "          if (!dataTable) return;\n",
              "\n",
              "          const docLinkHtml = 'Like what you see? Visit the ' +\n",
              "            '<a target=\"_blank\" href=https://colab.research.google.com/notebooks/data_table.ipynb>data table notebook</a>'\n",
              "            + ' to learn more about interactive tables.';\n",
              "          element.innerHTML = '';\n",
              "          dataTable['output_type'] = 'display_data';\n",
              "          await google.colab.output.renderOutput(dataTable, element);\n",
              "          const docLink = document.createElement('div');\n",
              "          docLink.innerHTML = docLinkHtml;\n",
              "          element.appendChild(docLink);\n",
              "        }\n",
              "      </script>\n",
              "    </div>\n",
              "  </div>\n",
              "  "
            ]
          },
          "metadata": {},
          "execution_count": 19
        }
      ]
    },
    {
      "cell_type": "code",
      "source": [
        "X = pd.get_dummies(df.drop(columns='salary'))\n",
        "Y = df['salary'].apply(lambda x: 0 if x == ' <=50K' else 1)\n",
        "\n",
        "x_train, x_test, y_train, y_test = train_test_split(X.to_numpy(), Y.to_numpy(), test_size=0.25, random_state=22)"
      ],
      "metadata": {
        "id": "e3maOKeShz-R"
      },
      "execution_count": 20,
      "outputs": []
    },
    {
      "cell_type": "code",
      "source": [
        "'''\n",
        "linear = Linear()\n",
        "linear.fit(x_train, y_train)\n",
        "\n",
        "svm = SVM(a=108)\n",
        "svm.fit(x_train, y_train)\n",
        "\n",
        "knn = KNeighbors()\n",
        "knn.fit(x_train, y_train)\n",
        "'''"
      ],
      "metadata": {
        "colab": {
          "base_uri": "https://localhost:8080/"
        },
        "id": "PMf5lhYWh9VN",
        "outputId": "de258914-4fb8-4896-8b70-738a5105be6f"
      },
      "execution_count": 51,
      "outputs": [
        {
          "output_type": "stream",
          "name": "stderr",
          "text": [
            "/usr/local/lib/python3.7/dist-packages/ipykernel_launcher.py:8: RuntimeWarning: overflow encountered in exp\n",
            "  \n"
          ]
        }
      ]
    },
    {
      "cell_type": "code",
      "source": [
        "class HardVote(BaseEstimator, ClassifierMixin):\n",
        "  def __init__(self, estims):\n",
        "    self.estimators = estims\n",
        "    \n",
        "  def fit(self, X, y):\n",
        "    for model in self.estimators:\n",
        "      model.fit(X, y)\n",
        "\n",
        "    return self\n",
        "\n",
        "  def predict(self, X):\n",
        "    pred = []\n",
        "    for model in self.estimators:\n",
        "      pred.append(model.predict(X))\n",
        "    \n",
        "    return stats.mode(np.array(pred)).mode[0]\n",
        "\n",
        "class SoftVote(BaseEstimator, ClassifierMixin):\n",
        "  def __init__(self, estims):\n",
        "    self.estimators = estims\n",
        "    \n",
        "  def fit(self, X, y):\n",
        "    for model in self.estimators:\n",
        "      model.fit(X, y)\n",
        "\n",
        "    return self\n",
        "\n",
        "  def predict(self, X):\n",
        "    pred = None\n",
        "    for model in self.estimators:\n",
        "      if pred is None:\n",
        "        pred = model.predict_proba(X) / len(self.estimators)\n",
        "      else:\n",
        "        pred += model.predict_proba(X) / len(self.estimators)\n",
        "    \n",
        "    return (pred >= 0.5)*1"
      ],
      "metadata": {
        "id": "_HMDA2nvn7qi"
      },
      "execution_count": 83,
      "outputs": []
    },
    {
      "cell_type": "code",
      "source": [
        "lin_p = Pipeline([\n",
        "    ('scaler', StandardScaler()),\n",
        "    ('classifier', Linear())\n",
        "])\n",
        "\n",
        "SVM_p = Pipeline([\n",
        "    ('scaler', StandardScaler()),\n",
        "    ('classifier', SVM(a=108))\n",
        "])\n",
        "\n",
        "KNN_p = Pipeline([\n",
        "    ('scaler', StandardScaler()),\n",
        "    ('classifier', KNeighbors())\n",
        "])\n",
        "\n",
        "hard = HardVote([lin_p, SVM_p, KNN_p]).fit(x_train, y_train)\n",
        "\n",
        "soft = SoftVote([lin_p, SVM_p, KNN_p]).fit(x_train, y_train)"
      ],
      "metadata": {
        "id": "qAlD8T-1qUPt"
      },
      "execution_count": 84,
      "outputs": []
    },
    {
      "cell_type": "code",
      "source": [
        "scores(y_test, hard.predict(x_test))"
      ],
      "metadata": {
        "colab": {
          "base_uri": "https://localhost:8080/",
          "height": 593
        },
        "id": "-33fYwR-qUNR",
        "outputId": "5924c80c-084f-4499-ec0c-2cfe4328dd71"
      },
      "execution_count": 85,
      "outputs": [
        {
          "output_type": "display_data",
          "data": {
            "text/plain": [
              "<Figure size 432x288 with 2 Axes>"
            ],
            "image/png": "[encoded data removed]"
          },
          "metadata": {
            "needs_background": "light"
          }
        },
        {
          "output_type": "display_data",
          "data": {
            "text/plain": [
              "<Figure size 432x288 with 1 Axes>"
            ],
            "image/png": "[encoded data removed]"
          },
          "metadata": {
            "needs_background": "light"
          }
        },
        {
          "output_type": "stream",
          "name": "stdout",
          "text": [
            "Accuracy tests: 0.8110797199361258\n",
            "Precision tests: 0.6675549633577615\n",
            "Recall tests: 0.49093581577658013\n"
          ]
        }
      ]
    },
    {
      "cell_type": "code",
      "source": [
        "scores(y_test, soft.predict(x_test))"
      ],
      "metadata": {
        "colab": {
          "base_uri": "https://localhost:8080/",
          "height": 593
        },
        "id": "PrPjwecpqULJ",
        "outputId": "4f8a1164-bb1e-49b7-d6aa-5ba5d4ad0c6c"
      },
      "execution_count": 86,
      "outputs": [
        {
          "output_type": "display_data",
          "data": {
            "text/plain": [
              "<Figure size 432x288 with 2 Axes>"
            ],
            "image/png": "[encoded data removed]"
          },
          "metadata": {
            "needs_background": "light"
          }
        },
        {
          "output_type": "display_data",
          "data": {
            "text/plain": [
              "<Figure size 432x288 with 1 Axes>"
            ],
            "image/png": "[encoded data removed]"
          },
          "metadata": {
            "needs_background": "light"
          }
        },
        {
          "output_type": "stream",
          "name": "stdout",
          "text": [
            "Accuracy tests: 0.8005159071367154\n",
            "Precision tests: 0.5848595848595849\n",
            "Recall tests: 0.7040666340029398\n"
          ]
        }
      ]
    },
    {
      "cell_type": "code",
      "source": [
        "class DecisionTree(BaseEstimator, ClassifierMixin):\n",
        "    \n",
        "    def __init__(self, **kwargs):\n",
        "      \n",
        "      self.siglevel = kwargs.get('siglevel', 0.2)\n",
        "      self.tree = {}\n",
        "      self.count = 0\n",
        "        \n",
        "    def _gini(self, p):\n",
        "      return 4 * p * (1 - p)\n",
        "        \n",
        "    def fit(self, Train_data, Train_labels):\n",
        "      features = Train_data.shape[1]\n",
        "      \n",
        "      queue = [(0, Train_data, Train_labels, 0)]\n",
        "      \n",
        "      while queue:\n",
        "        idx, Td, Tl, cur_feature = queue.pop(0)\n",
        "        \n",
        "        Q = len(Td)\n",
        "        pq = np.sum(Tl == 0) / Q\n",
        "        if pq < self.siglevel or pq > 1 - self.siglevel:\n",
        "          self.tree[idx] = (None, None, Q, pq, None, None)\n",
        "          continue\n",
        "            \n",
        "        minimum = (2, None)\n",
        "        for x in Td[:, cur_feature]:\n",
        "          mask = Td[:, cur_feature] <= x\n",
        "          LTrain = Td[mask]\n",
        "          LTrainl = Tl[mask]\n",
        "          RTrain = Td[~mask]\n",
        "          RTrainl = Tl[~mask]\n",
        "\n",
        "          L, R = len(LTrainl), len(RTrainl)\n",
        "          pl, pr = np.sum(LTrainl == 0) / L, np.sum(RTrainl == 0) / R\n",
        "\n",
        "          Loss = (L/Q + 1)*self._gini(pl) + (R/Q + 1)*self._gini(pr)\n",
        "          if Loss < minimum[0]:\n",
        "            minimum = (Loss, x)\n",
        "\n",
        "        mask = Td[:, cur_feature] <= minimum[1]\n",
        "\n",
        "        LTrain = Td[mask]\n",
        "        LTrainl = Tl[mask]\n",
        "        RTrain = Td[~mask]\n",
        "        RTrainl = Tl[~mask]\n",
        "        \n",
        "        self.tree[idx] = (cur_feature, minimum[1], Q, pq, self.count + 1, self.count + 2)\n",
        "\n",
        "        queue.append((self.count + 1, LTrain, LTrainl, (cur_feature + 1) % features))\n",
        "        queue.append((self.count + 2, RTrain, RTrainl, (cur_feature + 1) % features))\n",
        "        self.count += 2\n",
        "        cur_feature = (cur_feature + 1) % features\n",
        "        \n",
        "      return self\n",
        "    \n",
        "    def predict(self, p):\n",
        "        \n",
        "      result = []\n",
        "      \n",
        "      for x in p:\n",
        "        iterator = 0\n",
        "        head = self.tree[iterator]\n",
        "        \n",
        "        while not (head[0] is None):\n",
        "          if x[head[0]] <= head[1]:\n",
        "            iterator = head[4]\n",
        "          else:\n",
        "            iterator = head[5]\n",
        "          head = self.tree[iterator]\n",
        "        \n",
        "        result.append(1 if head[3] <= 0.5 else 0)\n",
        "      \n",
        "      return np.array(result)\n",
        "    \n",
        "    def predict_proba(self, p):  \n",
        "      result = []\n",
        "        \n",
        "      for x in p:\n",
        "        iterator = 0\n",
        "        head = self.tree[iterator]\n",
        "        \n",
        "        while not (head[0] is None):\n",
        "          if x[head[0]] <= head[1]:\n",
        "            iterator = head[4]\n",
        "          else:\n",
        "            iterator = head[5]\n",
        "          head = self.tree[iterator]\n",
        "          \n",
        "        result.append(1 - head[3])\n",
        "        \n",
        "      return np.array(result)"
      ],
      "metadata": {
        "id": "GZZsqFlSqUJI"
      },
      "execution_count": 139,
      "outputs": []
    },
    {
      "cell_type": "code",
      "source": [
        "dt_p = Pipeline([\n",
        "    ('scaler', StandardScaler()),\n",
        "    ('classifier', DecisionTree())\n",
        "])\n",
        "\n",
        "dt_p.fit(x_train, y_train)"
      ],
      "metadata": {
        "colab": {
          "base_uri": "https://localhost:8080/"
        },
        "id": "I5OV359RqUFN",
        "outputId": "a0420e78-d144-46a7-c3c6-c7bbac2a27a6"
      },
      "execution_count": 145,
      "outputs": [
        {
          "output_type": "stream",
          "name": "stderr",
          "text": [
            "/usr/local/lib/python3.7/dist-packages/ipykernel_launcher.py:35: RuntimeWarning: invalid value encountered in long_scalars\n"
          ]
        },
        {
          "output_type": "execute_result",
          "data": {
            "text/plain": [
              "Pipeline(steps=[('scaler', StandardScaler()), ('classifier', DecisionTree())])"
            ]
          },
          "metadata": {},
          "execution_count": 145
        }
      ]
    },
    {
      "cell_type": "code",
      "source": [
        "scores(y_test, dt_p.predict(x_test))"
      ],
      "metadata": {
        "colab": {
          "base_uri": "https://localhost:8080/",
          "height": 594
        },
        "id": "Rvmdu6mwsnTE",
        "outputId": "9beb0a9a-ce87-4957-fbb1-e8733ef1fc14"
      },
      "execution_count": 146,
      "outputs": [
        {
          "output_type": "display_data",
          "data": {
            "text/plain": [
              "<Figure size 432x288 with 2 Axes>"
            ],
            "image/png": "[encoded data removed]"
          },
          "metadata": {
            "needs_background": "light"
          }
        },
        {
          "output_type": "display_data",
          "data": {
            "text/plain": [
              "<Figure size 432x288 with 1 Axes>"
            ],
            "image/png": "[encoded data removed]"
          },
          "metadata": {
            "needs_background": "light"
          }
        },
        {
          "output_type": "stream",
          "name": "stdout",
          "text": [
            "Accuracy tests: 0.7935143102812923\n",
            "Precision tests: 1.0\n",
            "Recall tests: 0.1763841254287114\n"
          ]
        }
      ]
    },
    {
      "cell_type": "code",
      "source": [
        "class BaggingClassifier(BaseEstimator, ClassifierMixin):\n",
        "    \n",
        "    def __init__(self, base_estimator, **kwargs):\n",
        "        self.n_estimators = kwargs.get('n_estimators', 10)\n",
        "        self.max_samples = kwargs.get('max_samples', 10)\n",
        "        self.pasting = kwargs.get('pasting', False)\n",
        "        self.models = [base_estimator for _ in range(self.n_estimators)]\n",
        "        \n",
        "    def fit(self, Train_data, Train_labels):\n",
        "        \n",
        "        for model in self.models:\n",
        "            if self.pasting:\n",
        "                random_indices = np.random.choice(len(Train_data), size=self.max_samples, replace=False)\n",
        "                mask = np.ones(len(Train_data), np.bool)\n",
        "                mask[random_indices] = 0\n",
        "                X, y = Train_data[random_indices, :], Train_labels[random_indices]\n",
        "                Train_data = Train_data[mask, :]\n",
        "                Train_labels = Train_labels[mask]\n",
        "            else:\n",
        "                random_indices = np.random.choice(len(Train_data), size=self.max_samples, replace=False)\n",
        "                X, y = Train_data[random_indices, :], Train_labels[random_indices]\n",
        "            model.fit(X, y)\n",
        "            \n",
        "        return self\n",
        "    \n",
        "    def predict(self, p):\n",
        "        predicts = []\n",
        "        for model in self.models:\n",
        "            predicts.append(model.predict(p))\n",
        "        return stats.mode(np.array(predicts)).mode[0]"
      ],
      "metadata": {
        "id": "ksBA9XSetuqu"
      },
      "execution_count": 154,
      "outputs": []
    },
    {
      "cell_type": "code",
      "source": [
        "DT_ = Pipeline([\n",
        "    ('scaler', StandardScaler()),\n",
        "    ('classifier', DecisionTree())\n",
        "])\n",
        "\n",
        "BC = BaggingClassifier(DT_, max_samples = 5, n_estimators = 5).fit(x_train, y_train)"
      ],
      "metadata": {
        "colab": {
          "base_uri": "https://localhost:8080/"
        },
        "id": "eZ7P9yUmtuol",
        "outputId": "eb09bdc9-9c18-4c83-ae54-6c979a3d3197"
      },
      "execution_count": 166,
      "outputs": [
        {
          "output_type": "stream",
          "name": "stderr",
          "text": [
            "/usr/local/lib/python3.7/dist-packages/ipykernel_launcher.py:35: RuntimeWarning: invalid value encountered in long_scalars\n",
            "/usr/local/lib/python3.7/dist-packages/ipykernel_launcher.py:35: RuntimeWarning: invalid value encountered in long_scalars\n",
            "/usr/local/lib/python3.7/dist-packages/ipykernel_launcher.py:35: RuntimeWarning: invalid value encountered in long_scalars\n",
            "/usr/local/lib/python3.7/dist-packages/ipykernel_launcher.py:35: RuntimeWarning: invalid value encountered in long_scalars\n",
            "/usr/local/lib/python3.7/dist-packages/ipykernel_launcher.py:35: RuntimeWarning: invalid value encountered in long_scalars\n"
          ]
        }
      ]
    },
    {
      "cell_type": "code",
      "source": [
        "scores(y_test, BC.predict(x_test))"
      ],
      "metadata": {
        "colab": {
          "base_uri": "https://localhost:8080/",
          "height": 593
        },
        "id": "CRxpjOLYtumT",
        "outputId": "41000d10-5483-4d9d-cec3-5d488ad581b7"
      },
      "execution_count": 167,
      "outputs": [
        {
          "output_type": "display_data",
          "data": {
            "text/plain": [
              "<Figure size 432x288 with 2 Axes>"
            ],
            "image/png": "[encoded data removed]"
          },
          "metadata": {
            "needs_background": "light"
          }
        },
        {
          "output_type": "display_data",
          "data": {
            "text/plain": [
              "<Figure size 432x288 with 1 Axes>"
            ],
            "image/png": "[encoded data removed]"
          },
          "metadata": {
            "needs_background": "light"
          }
        },
        {
          "output_type": "stream",
          "name": "stdout",
          "text": [
            "Accuracy tests: 0.4680014740203906\n",
            "Precision tests: 0.27610481032459916\n",
            "Recall tests: 0.6918177364037237\n"
          ]
        }
      ]
    },
    {
      "cell_type": "code",
      "source": [
        "from sklearn import tree"
      ],
      "metadata": {
        "id": "K-8J3QYVtukH"
      },
      "execution_count": 170,
      "outputs": []
    },
    {
      "cell_type": "code",
      "source": [
        "skl_dtc = tree.DecisionTreeClassifier().fit(x_train, y_train)"
      ],
      "metadata": {
        "id": "8iQlIJRptuiE"
      },
      "execution_count": 171,
      "outputs": []
    },
    {
      "cell_type": "code",
      "source": [
        "scores(y_test, skl_dtc.predict(x_test))"
      ],
      "metadata": {
        "colab": {
          "base_uri": "https://localhost:8080/",
          "height": 593
        },
        "id": "lugpq8eStufw",
        "outputId": "8d4f11bd-7f4d-41f7-eaae-91b4a5052324"
      },
      "execution_count": 172,
      "outputs": [
        {
          "output_type": "display_data",
          "data": {
            "text/plain": [
              "<Figure size 432x288 with 2 Axes>"
            ],
            "image/png": "[encoded data removed]"
          },
          "metadata": {
            "needs_background": "light"
          }
        },
        {
          "output_type": "display_data",
          "data": {
            "text/plain": [
              "<Figure size 432x288 with 1 Axes>"
            ],
            "image/png": "[encoded data removed]"
          },
          "metadata": {
            "needs_background": "light"
          }
        },
        {
          "output_type": "stream",
          "name": "stdout",
          "text": [
            "Accuracy tests: 0.8159931212381771\n",
            "Precision tests: 0.6387327542156361\n",
            "Recall tests: 0.6124448799608035\n"
          ]
        }
      ]
    }
  ]
}